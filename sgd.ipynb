{
 "cells": [
  {
   "cell_type": "code",
   "execution_count": 1,
   "metadata": {},
   "outputs": [],
   "source": [
    "import pandas\n",
    "import numpy as np\n",
    "import matplotlib.pyplot as plt\n",
    "from math import exp"
   ]
  },
  {
   "cell_type": "code",
   "execution_count": 2,
   "metadata": {},
   "outputs": [],
   "source": [
    "url = \"iris.txt\"\n",
    "names = [\"x1\",\"x2\",\"x3\",\"x4\",\"class\"]\n",
    "data = pandas.read_csv(url, names=names)"
   ]
  },
  {
   "cell_type": "code",
   "execution_count": 3,
   "metadata": {},
   "outputs": [],
   "source": [
    "arr_iris = np.zeros((100,4))\n",
    "arr_class = np.zeros(100)\n",
    "tetha = np.zeros((101,5))\n",
    "tetha[0] = ([0.4,0.1,0.2,0.6,0.9])\n",
    "temp_tetha = [0.4,0.1,0.2,0.6,0.9]\n",
    "deltatetha = np.zeros((100,5))\n",
    "arr_prediction = np.zeros(100)\n",
    "arr_error = np.zeros(100)\n",
    "arr_hfuction = np.zeros(100)\n",
    "arr_sigmoid = np.zeros(100)\n",
    "class SGD:\n",
    "    ROWS_DATA = 100\n",
    "    def save_data(self):\n",
    "        for i in range (100):\n",
    "            for j in range (5):\n",
    "                if j==4:\n",
    "                    if data.iloc[i][4] == 'Iris-setosa':\n",
    "                        arr_class[i] = 1\n",
    "                    else:\n",
    "                        arr_class[i] = 0\n",
    "                else:\n",
    "                    arr_iris[i][j] = data.iloc[i][j]\n",
    "           \n",
    "    def h_function(self,i):\n",
    "        \n",
    "        return arr_iris[i][0]*temp_tetha[0]+arr_iris[i][1]*temp_tetha[1]+arr_iris[i][2]*temp_tetha[2]+arr_iris[i][3]*temp_tetha[3]+temp_tetha[4]\n",
    "    \n",
    "    def sigmoid(self,i):\n",
    "        arr_sigmoid[i] = 1/(1+exp(-self.h_function(i)))\n",
    "    \n",
    "    def prediction(self,i):\n",
    "        if arr_sigmoid[i]<0.5:\n",
    "            arr_prediction[i] = 0\n",
    "        else:\n",
    "            arr_prediction[i] = 1\n",
    "    \n",
    "    def error(self,i):\n",
    "        arr_error[i] = (arr_class[i]-arr_sigmoid[i])*(arr_class[i]-arr_sigmoid[i])\n",
    "        \n",
    "    def deltatetha(self,i):\n",
    "        for j in range (5):\n",
    "            if j == 4:\n",
    "                deltatetha[i][j] = 2*(arr_sigmoid[i]-arr_class[i])*(1-arr_sigmoid[i])*arr_sigmoid[i]*1\n",
    "            else:\n",
    "                deltatetha[i][j] = 2*(arr_sigmoid[i]-arr_class[i])*(1-arr_sigmoid[i])*arr_sigmoid[i]*arr_iris[i][j]\n",
    "                \n",
    "    def tetha_baru(self,i):\n",
    "        global temp_tetha\n",
    "        #print(i, temp_tetha, arr_error[i])\n",
    "        for j in range (5):\n",
    "            tetha[i+1][j] = temp_tetha[j]-alpha*deltatetha[i][j]\n",
    "        temp_tetha = tetha[i+1]\n",
    "        \n",
    "            \n",
    "    def main(self):\n",
    "        self.save_data()\n",
    "        x = np.zeros(EPOCH)\n",
    "        for j in range (EPOCH):\n",
    "            for i in range (100):\n",
    "                self.h_function(i)\n",
    "                self.prediction(i)\n",
    "                self.sigmoid(i)\n",
    "                self.error(i)\n",
    "                self.deltatetha(i)\n",
    "                self.tetha_baru(i)\n",
    "                x[j] = x[j] + arr_error[i]\n",
    "        plt.plot(x)\n",
    "        plt.show()"
   ]
  },
  {
   "cell_type": "code",
   "execution_count": 4,
   "metadata": {},
   "outputs": [
    {
     "data": {
      "image/png": "[encoded data removed]",
      "text/plain": [
       "<matplotlib.figure.Figure at 0x9ab3142b0>"
      ]
     },
     "metadata": {},
     "output_type": "display_data"
    }
   ],
   "source": [
    "EPOCH = 60\n",
    "alpha = 0.1\n",
    "a = SGD()\n",
    "a.main()"
   ]
  }
 ],
 "metadata": {
  "kernelspec": {
   "display_name": "Python 3",
   "language": "python",
   "name": "python3"
  },
  "language_info": {
   "codemirror_mode": {
    "name": "ipython",
    "version": 3
   },
   "file_extension": ".py",
   "mimetype": "text/x-python",
   "name": "python",
   "nbconvert_exporter": "python",
   "pygments_lexer": "ipython3",
   "version": "3.6.4"
  }
 },
 "nbformat": 4,
 "nbformat_minor": 2
}
